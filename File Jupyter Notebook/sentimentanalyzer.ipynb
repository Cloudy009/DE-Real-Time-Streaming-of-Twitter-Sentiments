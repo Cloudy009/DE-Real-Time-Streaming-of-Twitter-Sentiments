{
 "cells": [
  {
   "cell_type": "code",
   "execution_count": 1,
   "id": "b4d65c7c",
   "metadata": {
    "id": "4290f21d"
   },
   "outputs": [],
   "source": [
    "from pyspark.sql import SparkSession\n",
    "from pyspark.sql.types import *\n",
    "import wget\n",
    "from pyspark.ml.feature import Bucketizer,RegexTokenizer,StopWordsRemover,CountVectorizer,IDF\n",
    "from pyspark.sql.functions import *\n",
    "from pyspark.ml.classification import LogisticRegression\n",
    "from pyspark.ml import Pipeline,PipelineModel\n",
    "from pyspark.ml.evaluation import BinaryClassificationEvaluator"
   ]
  },
  {
   "cell_type": "markdown",
   "id": "83007ac7",
   "metadata": {},
   "source": [
    "1. Dữ liệu Huấn luyện\n",
    "Mô hình được xây dựng dựa trên một tập dữ liệu lớn chứa các đánh giá sản phẩm đã được gán nhãn là tích cực hoặc tiêu cực. Tập dữ liệu này cung cấp các ví dụ để mô hình học cách phân loại cảm xúc từ văn bản.\n",
    "2. Quá trình Huấn luyện\n",
    "Trong quá trình huấn luyện, mô hình sử dụng các thuật toán học máy để tìm ra các mẫu và mối quan hệ giữa các từ trong văn bản và nhãn cảm xúc tương ứng. Các thuật toán này có thể bao gồm Logistic Regression, Naive Bayes, hoặc các mô hình phức tạp hơn như mạng nơ-ron.\n",
    "Mô hình học cách xác định các từ hoặc cụm từ có thể chỉ ra cảm xúc tích cực hoặc tiêu cực. Ví dụ, từ \"tuyệt vời\" có thể được gán nhãn tích cực, trong khi \"thất vọng\" có thể được gán nhãn tiêu cực.\n",
    "3. Tính năng Văn bản\n",
    "Mô hình chuyển đổi văn bản thành các vector số thông qua các phương pháp như Bag of Words hoặc TF-IDF. Điều này giúp mô hình hiểu được cấu trúc và ngữ nghĩa của văn bản.\n",
    "Các tính năng này cho phép mô hình phân tích các yếu tố ngữ nghĩa trong văn bản, từ đó đưa ra quyết định về cảm xúc.\n",
    "4. Dự đoán cho Dữ liệu Mới\n",
    "Khi mô hình đã được huấn luyện, nó có thể được áp dụng cho các dữ liệu mới mà không cần gán nhãn. Mô hình sẽ nhận đầu vào là văn bản chưa được gán nhãn và sử dụng các kiến thức đã học để dự đoán cảm xúc.\n",
    "Mô hình sẽ trả về xác suất cho từng lớp cảm xúc (tích cực hoặc tiêu cực), từ đó quyết định lớp nào mà văn bản thuộc về dựa trên một ngưỡng xác định (thường là 0.5).\n",
    "5. Khả năng Tái sử dụng\n",
    "Mô hình có thể được áp dụng cho nhiều loại văn bản khác nhau, miễn là chúng có ngữ cảnh tương tự với dữ liệu huấn luyện. Ví dụ, mô hình được huấn luyện trên các đánh giá sản phẩm có thể cũng hoạt động tốt với các bình luận trên mạng xã hội hoặc phản hồi của khách hàng."
   ]
  },
  {
   "cell_type": "markdown",
   "id": "d1e0cc8f",
   "metadata": {},
   "source": [
    "<span style=\"color: blue; font-size:20px; font-weight:bold \">Tạo SparkSession và cấu hình để tương tác với Kafka và MongoDB</span> "
   ]
  },
  {
   "cell_type": "code",
   "execution_count": 2,
   "id": "b0c4b92e",
   "metadata": {
    "id": "6d37dc26"
   },
   "outputs": [
    {
     "name": "stderr",
     "output_type": "stream",
     "text": [
      "Ivy Default Cache set to: /root/.ivy2/cache\n",
      "The jars for the packages stored in: /root/.ivy2/jars\n",
      ":: loading settings :: url = jar:file:/usr/local/lib/python3.7/dist-packages/pyspark/jars/ivy-2.4.0.jar!/org/apache/ivy/core/settings/ivysettings.xml\n",
      "org.apache.spark#spark-sql-kafka-0-10_2.12 added as a dependency\n",
      "org.apache.spark#spark-avro_2.12 added as a dependency\n",
      "org.mongodb.spark#mongo-spark-connector_2.12 added as a dependency\n",
      ":: resolving dependencies :: org.apache.spark#spark-submit-parent-254c78c2-cd8c-4e8b-b7d7-2995a46e7a42;1.0\n",
      "\tconfs: [default]\n",
      "\tfound org.apache.spark#spark-sql-kafka-0-10_2.12;3.0.0 in central\n",
      "\tfound org.apache.spark#spark-token-provider-kafka-0-10_2.12;3.0.0 in central\n",
      "\tfound org.apache.kafka#kafka-clients;2.4.1 in central\n",
      "\tfound com.github.luben#zstd-jni;1.4.4-3 in central\n",
      "\tfound org.lz4#lz4-java;1.7.1 in central\n",
      "\tfound org.xerial.snappy#snappy-java;1.1.7.5 in central\n",
      "\tfound org.slf4j#slf4j-api;1.7.30 in central\n",
      "\tfound org.spark-project.spark#unused;1.0.0 in central\n",
      "\tfound org.apache.commons#commons-pool2;2.6.2 in central\n",
      "\tfound org.apache.spark#spark-avro_2.12;3.0.0 in central\n",
      "\tfound org.mongodb.spark#mongo-spark-connector_2.12;3.0.0 in central\n",
      "\tfound org.mongodb#mongodb-driver-sync;4.0.5 in central\n",
      "\tfound org.mongodb#bson;4.0.5 in central\n",
      "\tfound org.mongodb#mongodb-driver-core;4.0.5 in central\n",
      ":: resolution report :: resolve 687ms :: artifacts dl 15ms\n",
      "\t:: modules in use:\n",
      "\tcom.github.luben#zstd-jni;1.4.4-3 from central in [default]\n",
      "\torg.apache.commons#commons-pool2;2.6.2 from central in [default]\n",
      "\torg.apache.kafka#kafka-clients;2.4.1 from central in [default]\n",
      "\torg.apache.spark#spark-avro_2.12;3.0.0 from central in [default]\n",
      "\torg.apache.spark#spark-sql-kafka-0-10_2.12;3.0.0 from central in [default]\n",
      "\torg.apache.spark#spark-token-provider-kafka-0-10_2.12;3.0.0 from central in [default]\n",
      "\torg.lz4#lz4-java;1.7.1 from central in [default]\n",
      "\torg.mongodb#bson;4.0.5 from central in [default]\n",
      "\torg.mongodb#mongodb-driver-core;4.0.5 from central in [default]\n",
      "\torg.mongodb#mongodb-driver-sync;4.0.5 from central in [default]\n",
      "\torg.mongodb.spark#mongo-spark-connector_2.12;3.0.0 from central in [default]\n",
      "\torg.slf4j#slf4j-api;1.7.30 from central in [default]\n",
      "\torg.spark-project.spark#unused;1.0.0 from central in [default]\n",
      "\torg.xerial.snappy#snappy-java;1.1.7.5 from central in [default]\n",
      "\t---------------------------------------------------------------------\n",
      "\t|                  |            modules            ||   artifacts   |\n",
      "\t|       conf       | number| search|dwnlded|evicted|| number|dwnlded|\n",
      "\t---------------------------------------------------------------------\n",
      "\t|      default     |   14  |   0   |   0   |   0   ||   14  |   0   |\n",
      "\t---------------------------------------------------------------------\n",
      ":: retrieving :: org.apache.spark#spark-submit-parent-254c78c2-cd8c-4e8b-b7d7-2995a46e7a42\n",
      "\tconfs: [default]\n",
      "\t0 artifacts copied, 14 already retrieved (0kB/17ms)\n",
      "24/11/21 02:37:30 WARN NativeCodeLoader: Unable to load native-hadoop library for your platform... using builtin-java classes where applicable\n",
      "Using Spark's default log4j profile: org/apache/spark/log4j-defaults.properties\n",
      "Setting default log level to \"WARN\".\n",
      "To adjust logging level use sc.setLogLevel(newLevel). For SparkR, use setLogLevel(newLevel).\n",
      "24/11/21 02:37:32 WARN Utils: Service 'SparkUI' could not bind on port 4040. Attempting port 4041.\n",
      "24/11/21 02:37:32 WARN Utils: Service 'SparkUI' could not bind on port 4041. Attempting port 4042.\n"
     ]
    }
   ],
   "source": [
    "#Spark Session creation configured to interact with Kfka and MongoDB\n",
    "spark = SparkSession.builder.appName(\"pyspark-notebook\").\\\n",
    "config(\"spark.jars.packages\",\"org.apache.spark:spark-sql-kafka-0-10_2.12:3.0.0,org.apache.spark:spark-avro_2.12:3.0.0,org.mongodb.spark:mongo-spark-connector_2.12:3.0.0\").\\\n",
    "config(\"spark.mongodb.input.uri\",\"mongodb://intent-mongo-1:27017/twitter_db.tweets\").\\\n",
    "config(\"spark.mongodb.output.uri\",\"mongodb://intent-mongo-1:27017/twitter_db.tweets\").\\\n",
    "getOrCreate()"
   ]
  },
  {
   "cell_type": "code",
   "execution_count": 3,
   "id": "27536c62",
   "metadata": {
    "id": "394f0e2c"
   },
   "outputs": [],
   "source": [
    "# spark.read.json(\"reviews_Sports_and_Outdoors_5.json.gz\").show(35)"
   ]
  },
  {
   "cell_type": "markdown",
   "id": "11752d0c",
   "metadata": {},
   "source": [
    "<span style=\"color: blue; font-size:20px; font-weight:bold \">Tải dữ liệu nếu không tồn tại và đọc nó vào Spark DataFrame</span> "
   ]
  },
  {
   "cell_type": "code",
   "execution_count": 4,
   "id": "c396673f",
   "metadata": {
    "id": "0e7b9b96",
    "outputId": "716381d8-0374-4219-a493-615e0efae504"
   },
   "outputs": [
    {
     "name": "stderr",
     "output_type": "stream",
     "text": [
      "                                                                                \r"
     ]
    },
    {
     "data": {
      "text/plain": [
       "296337"
      ]
     },
     "execution_count": 4,
     "metadata": {},
     "output_type": "execute_result"
    }
   ],
   "source": [
    "#Download dataset if not exists and read it as spark dataframe\n",
    "try:\n",
    "    df0 = spark.read.json(\"reviews_Sports_and_Outdoors_5.json.gz\")\n",
    "except Exception as e:\n",
    "    url = \"http://snap.stanford.edu/data/amazon/productGraph/categoryFiles/reviews_Sports_and_Outdoors_5.json.gz\"\n",
    "    wget.download(url)\n",
    "    df0 = spark.read.json(\"reviews_Sports_and_Outdoors_5.json.gz\")\n",
    "\n",
    "df = df0.withColumn(\"text\",concat(col(\"summary\"), lit(\" \"),col(\"reviewText\")))\\\n",
    " .drop(\"helpful\")\\\n",
    " .drop(\"reviewerID\")\\\n",
    " .drop(\"reviewerName\")\\\n",
    " .drop(\"reviewTime\")\n",
    "df.count()"
   ]
  },
  {
   "cell_type": "code",
   "execution_count": 5,
   "id": "de72cfce",
   "metadata": {},
   "outputs": [
    {
     "name": "stdout",
     "output_type": "stream",
     "text": [
      "3.0.0\n"
     ]
    }
   ],
   "source": [
    "print(spark.version)"
   ]
  },
  {
   "cell_type": "markdown",
   "id": "7cb57a09",
   "metadata": {},
   "source": [
    "<span style=\"color: green; font-size:30px; font-weight:bold \">Mô hình hóa và phân tích dữ liệu</span> "
   ]
  },
  {
   "cell_type": "markdown",
   "id": "30722c1d",
   "metadata": {},
   "source": [
    "<span style=\"color: blue; font-size:20px; font-weight:bold \">Mô tả dữ liệu đánh giá</span> "
   ]
  },
  {
   "cell_type": "code",
   "execution_count": 6,
   "id": "28929ae6",
   "metadata": {
    "id": "111b66c2",
    "outputId": "a9c28e07-4cfd-418f-b54c-53ee86a7bc36"
   },
   "outputs": [
    {
     "name": "stderr",
     "output_type": "stream",
     "text": [
      "[Stage 3:>                                                          (0 + 1) / 1]\r"
     ]
    },
    {
     "name": "stdout",
     "output_type": "stream",
     "text": [
      "+-------+------------------+\n",
      "|summary|           overall|\n",
      "+-------+------------------+\n",
      "|  count|            296337|\n",
      "|   mean| 4.393450699710128|\n",
      "| stddev|0.9869053992908551|\n",
      "|    min|               1.0|\n",
      "|    max|               5.0|\n",
      "+-------+------------------+\n",
      "\n"
     ]
    },
    {
     "name": "stderr",
     "output_type": "stream",
     "text": [
      "                                                                                \r"
     ]
    }
   ],
   "source": [
    "df.describe(\"overall\").show()"
   ]
  },
  {
   "cell_type": "markdown",
   "id": "05347bac",
   "metadata": {},
   "source": [
    "<span style=\"color: blue; font-size:20px; font-weight:bold \">Chia dữ liệu thành các nhãn 0 và 1</span> "
   ]
  },
  {
   "cell_type": "code",
   "execution_count": 7,
   "id": "012d6fb0",
   "metadata": {
    "id": "91bdffd0",
    "outputId": "9927373e-5fef-4870-dbe4-f06362330b5f"
   },
   "outputs": [
    {
     "name": "stderr",
     "output_type": "stream",
     "text": [
      "                                                                                \r"
     ]
    },
    {
     "name": "stdout",
     "output_type": "stream",
     "text": [
      "+-------+-----+------+\n",
      "|overall|label| count|\n",
      "+-------+-----+------+\n",
      "|    2.0|  0.0| 10204|\n",
      "|    5.0|  1.0|188208|\n",
      "|    1.0|  0.0|  9045|\n",
      "|    4.0|  1.0| 64809|\n",
      "+-------+-----+------+\n",
      "\n"
     ]
    }
   ],
   "source": [
    "#Bucketize data and create labels 0 if overall rating is in (1.0,2.0), otherwise 1\n",
    "df1 = df.filter(\"overall !=3\")\n",
    "\n",
    "splits = [-float(\"inf\"), 4.0, float(\"inf\")]\n",
    "\n",
    "bucketizer = Bucketizer(splits=splits, inputCol=\"overall\", outputCol=\"label\")\n",
    "\n",
    "df2= bucketizer.transform(df1)\n",
    "\n",
    "df2.groupBy(\"overall\",\"label\").count().show()"
   ]
  },
  {
   "cell_type": "markdown",
   "id": "f457edab",
   "metadata": {},
   "source": [
    "<span style=\"color: blue; font-size:20px; font-weight:bold \">Lấy mẫu dữ liệu để tạo tập huấn luyện và kiểm tra</span>"
   ]
  },
  {
   "cell_type": "code",
   "execution_count": 8,
   "id": "11a28a22",
   "metadata": {
    "id": "0bce2dc6",
    "outputId": "75c6f1e2-9115-40c8-f8e7-911c8d911763"
   },
   "outputs": [
    {
     "name": "stderr",
     "output_type": "stream",
     "text": [
      "                                                                                \r"
     ]
    },
    {
     "name": "stdout",
     "output_type": "stream",
     "text": [
      "+-----+-----+\n",
      "|label|count|\n",
      "+-----+-----+\n",
      "|  0.0|19249|\n",
      "|  1.0|25224|\n",
      "+-----+-----+\n",
      "\n"
     ]
    }
   ],
   "source": [
    "#take sample to create train and test dataset\n",
    "fractions = {1.0 : .1, 0.0 : 1.0}\n",
    "df3 = df2.stat.sampleBy(\"label\", fractions, 36)\n",
    "df3.groupBy(\"label\").count().show()"
   ]
  },
  {
   "cell_type": "markdown",
   "id": "b79ead5b",
   "metadata": {},
   "source": [
    "<span style=\"color: blue; font-size:20px; font-weight:bold \">Chia dữ liệu thành tập huấn luyện và kiểm tra theo tỷ lệ 80-20%</span>"
   ]
  },
  {
   "cell_type": "code",
   "execution_count": 9,
   "id": "15664244",
   "metadata": {
    "id": "d27c2f55"
   },
   "outputs": [],
   "source": [
    "#Split data as 80-20% Train and Test dataset\n",
    "splitSeed = 5043\n",
    "trainingData, testData = df3.randomSplit([0.8, 0.2], splitSeed)"
   ]
  },
  {
   "cell_type": "markdown",
   "id": "a1c45162",
   "metadata": {},
   "source": [
    "Xây dựng pipeline và mô hình Logistic Regression"
   ]
  },
  {
   "cell_type": "markdown",
   "id": "9d89349b",
   "metadata": {},
   "source": [
    "<span style=\"color: blue; font-size:20px; font-weight:bold \">Tokenize văn bản</span>"
   ]
  },
  {
   "cell_type": "code",
   "execution_count": 10,
   "id": "2a28d2a5",
   "metadata": {
    "id": "09a57ba9"
   },
   "outputs": [],
   "source": [
    "#Tokenize \n",
    "tokenizer = RegexTokenizer(inputCol=\"text\",outputCol=\"reviewTokensUf\",pattern=\"\\\\s+|[,.()\\\"]\")\n",
    "\n",
    "remover = StopWordsRemover(stopWords=StopWordsRemover.loadDefaultStopWords(\"english\"),inputCol=\"reviewTokensUf\",outputCol=\"reviewTokens\")"
   ]
  },
  {
   "cell_type": "markdown",
   "id": "7e6c0f59",
   "metadata": {},
   "source": [
    "<span style=\"color: blue; font-size:20px; font-weight:bold \">Chuyển đổi từ văn bản sang vector đếm từ</span>"
   ]
  },
  {
   "cell_type": "code",
   "execution_count": 11,
   "id": "14f84e16",
   "metadata": {
    "id": "074e54d7"
   },
   "outputs": [],
   "source": [
    "#converts word documents to vectors of token counts\n",
    "cv = CountVectorizer(inputCol=\"reviewTokens\",outputCol=\"cv\",vocabSize=296337)"
   ]
  },
  {
   "cell_type": "markdown",
   "id": "b87e8dc3",
   "metadata": {},
   "source": [
    "<span style=\"color: blue; font-size:20px; font-weight:bold \">Mô hình IDF (Inverse Document Frequency):</span>"
   ]
  },
  {
   "cell_type": "code",
   "execution_count": 12,
   "id": "184d7712",
   "metadata": {
    "id": "8d009b27"
   },
   "outputs": [],
   "source": [
    "#IDF model\n",
    "idf = IDF(inputCol=\"cv\",outputCol=\"features\")"
   ]
  },
  {
   "cell_type": "markdown",
   "id": "640f4ce7",
   "metadata": {},
   "source": [
    "<span style=\"color: blue; font-size:20px; font-weight:bold \">Logistic Regression</span>"
   ]
  },
  {
   "cell_type": "code",
   "execution_count": 13,
   "id": "e49ddf44",
   "metadata": {
    "id": "c753c97c"
   },
   "outputs": [],
   "source": [
    "lr = LogisticRegression(maxIter=100,regParam=0.02,elasticNetParam=0.3)"
   ]
  },
  {
   "cell_type": "markdown",
   "id": "2ee1d627",
   "metadata": {},
   "source": [
    "<span style=\"color: blue; font-size:20px; font-weight:bold \">Tạo pipeline</span>"
   ]
  },
  {
   "cell_type": "code",
   "execution_count": 14,
   "id": "b58cc7cb",
   "metadata": {
    "id": "b49b029a"
   },
   "outputs": [],
   "source": [
    "#Creates a pipeline\n",
    "steps =  [tokenizer, remover, cv, idf,lr]\n",
    "pipeline = Pipeline(stages=steps)"
   ]
  },
  {
   "cell_type": "markdown",
   "id": "0b853eec",
   "metadata": {},
   "source": [
    "<span style=\"color: blue; font-size:20px; font-weight:bold \">Huấn luyện mô hình</span>"
   ]
  },
  {
   "cell_type": "code",
   "execution_count": 15,
   "id": "4927124b",
   "metadata": {
    "id": "d8b9c448"
   },
   "outputs": [
    {
     "name": "stderr",
     "output_type": "stream",
     "text": [
      "24/11/21 02:38:47 WARN DAGScheduler: Broadcasting large task binary with size 1969.4 KiB\n",
      "24/11/21 02:38:54 WARN DAGScheduler: Broadcasting large task binary with size 1968.6 KiB\n",
      "24/11/21 02:38:54 WARN BLAS: Failed to load implementation from: com.github.fommil.netlib.NativeSystemBLAS\n",
      "24/11/21 02:38:54 WARN BLAS: Failed to load implementation from: com.github.fommil.netlib.NativeRefBLAS\n",
      "24/11/21 02:38:54 WARN DAGScheduler: Broadcasting large task binary with size 1968.6 KiB\n",
      "24/11/21 02:38:54 WARN DAGScheduler: Broadcasting large task binary with size 1968.6 KiB\n",
      "24/11/21 02:38:54 WARN DAGScheduler: Broadcasting large task binary with size 1968.6 KiB\n",
      "24/11/21 02:38:55 WARN DAGScheduler: Broadcasting large task binary with size 1968.6 KiB\n",
      "24/11/21 02:38:55 WARN DAGScheduler: Broadcasting large task binary with size 1968.6 KiB\n",
      "24/11/21 02:38:55 WARN DAGScheduler: Broadcasting large task binary with size 1968.6 KiB\n",
      "24/11/21 02:38:55 WARN DAGScheduler: Broadcasting large task binary with size 1968.6 KiB\n",
      "24/11/21 02:38:56 WARN DAGScheduler: Broadcasting large task binary with size 1968.6 KiB\n",
      "24/11/21 02:38:56 WARN DAGScheduler: Broadcasting large task binary with size 1968.6 KiB\n",
      "24/11/21 02:38:56 WARN DAGScheduler: Broadcasting large task binary with size 1968.6 KiB\n",
      "24/11/21 02:38:56 WARN DAGScheduler: Broadcasting large task binary with size 1968.6 KiB\n",
      "24/11/21 02:38:56 WARN DAGScheduler: Broadcasting large task binary with size 1968.6 KiB\n",
      "24/11/21 02:38:57 WARN DAGScheduler: Broadcasting large task binary with size 1968.6 KiB\n",
      "24/11/21 02:38:57 WARN DAGScheduler: Broadcasting large task binary with size 1968.6 KiB\n",
      "24/11/21 02:38:57 WARN DAGScheduler: Broadcasting large task binary with size 1968.6 KiB\n",
      "24/11/21 02:38:57 WARN DAGScheduler: Broadcasting large task binary with size 1968.6 KiB\n",
      "24/11/21 02:38:57 WARN DAGScheduler: Broadcasting large task binary with size 1968.6 KiB\n",
      "24/11/21 02:38:58 WARN DAGScheduler: Broadcasting large task binary with size 1968.6 KiB\n",
      "24/11/21 02:38:58 WARN DAGScheduler: Broadcasting large task binary with size 1968.6 KiB\n",
      "24/11/21 02:38:58 WARN DAGScheduler: Broadcasting large task binary with size 1968.6 KiB\n",
      "24/11/21 02:38:58 WARN DAGScheduler: Broadcasting large task binary with size 1968.6 KiB\n",
      "24/11/21 02:38:58 WARN DAGScheduler: Broadcasting large task binary with size 1968.6 KiB\n",
      "24/11/21 02:38:59 WARN DAGScheduler: Broadcasting large task binary with size 1968.6 KiB\n",
      "24/11/21 02:38:59 WARN DAGScheduler: Broadcasting large task binary with size 1968.6 KiB\n",
      "24/11/21 02:38:59 WARN DAGScheduler: Broadcasting large task binary with size 1968.6 KiB\n",
      "24/11/21 02:38:59 WARN DAGScheduler: Broadcasting large task binary with size 1968.6 KiB\n",
      "24/11/21 02:39:00 WARN DAGScheduler: Broadcasting large task binary with size 1968.6 KiB\n",
      "24/11/21 02:39:00 WARN DAGScheduler: Broadcasting large task binary with size 1968.6 KiB\n",
      "24/11/21 02:39:00 WARN DAGScheduler: Broadcasting large task binary with size 1968.6 KiB\n",
      "24/11/21 02:39:00 WARN DAGScheduler: Broadcasting large task binary with size 1968.6 KiB\n",
      "24/11/21 02:39:00 WARN DAGScheduler: Broadcasting large task binary with size 1968.6 KiB\n",
      "24/11/21 02:39:01 WARN DAGScheduler: Broadcasting large task binary with size 1968.6 KiB\n",
      "24/11/21 02:39:01 WARN DAGScheduler: Broadcasting large task binary with size 1968.6 KiB\n",
      "24/11/21 02:39:01 WARN DAGScheduler: Broadcasting large task binary with size 1968.6 KiB\n",
      "24/11/21 02:39:01 WARN DAGScheduler: Broadcasting large task binary with size 1968.6 KiB\n",
      "24/11/21 02:39:02 WARN DAGScheduler: Broadcasting large task binary with size 1968.6 KiB\n",
      "24/11/21 02:39:02 WARN DAGScheduler: Broadcasting large task binary with size 1968.6 KiB\n",
      "24/11/21 02:39:02 WARN DAGScheduler: Broadcasting large task binary with size 1968.6 KiB\n",
      "24/11/21 02:39:02 WARN DAGScheduler: Broadcasting large task binary with size 1968.6 KiB\n",
      "24/11/21 02:39:02 WARN DAGScheduler: Broadcasting large task binary with size 1968.6 KiB\n",
      "24/11/21 02:39:03 WARN DAGScheduler: Broadcasting large task binary with size 1968.6 KiB\n",
      "24/11/21 02:39:03 WARN DAGScheduler: Broadcasting large task binary with size 1968.6 KiB\n",
      "24/11/21 02:39:03 WARN DAGScheduler: Broadcasting large task binary with size 1968.6 KiB\n",
      "24/11/21 02:39:03 WARN DAGScheduler: Broadcasting large task binary with size 1968.6 KiB\n",
      "24/11/21 02:39:04 WARN DAGScheduler: Broadcasting large task binary with size 1968.6 KiB\n",
      "24/11/21 02:39:04 WARN DAGScheduler: Broadcasting large task binary with size 1968.6 KiB\n",
      "24/11/21 02:39:04 WARN DAGScheduler: Broadcasting large task binary with size 1968.6 KiB\n",
      "24/11/21 02:39:04 WARN DAGScheduler: Broadcasting large task binary with size 1968.6 KiB\n",
      "24/11/21 02:39:04 WARN DAGScheduler: Broadcasting large task binary with size 1968.6 KiB\n",
      "24/11/21 02:39:04 WARN DAGScheduler: Broadcasting large task binary with size 1968.6 KiB\n",
      "24/11/21 02:39:05 WARN DAGScheduler: Broadcasting large task binary with size 1968.6 KiB\n",
      "24/11/21 02:39:05 WARN DAGScheduler: Broadcasting large task binary with size 1968.6 KiB\n",
      "24/11/21 02:39:05 WARN DAGScheduler: Broadcasting large task binary with size 1968.6 KiB\n",
      "24/11/21 02:39:05 WARN DAGScheduler: Broadcasting large task binary with size 1968.6 KiB\n",
      "24/11/21 02:39:05 WARN DAGScheduler: Broadcasting large task binary with size 1968.6 KiB\n",
      "24/11/21 02:39:06 WARN DAGScheduler: Broadcasting large task binary with size 1968.6 KiB\n",
      "24/11/21 02:39:06 WARN DAGScheduler: Broadcasting large task binary with size 1968.6 KiB\n",
      "24/11/21 02:39:06 WARN DAGScheduler: Broadcasting large task binary with size 1968.6 KiB\n",
      "24/11/21 02:39:06 WARN DAGScheduler: Broadcasting large task binary with size 1968.6 KiB\n",
      "24/11/21 02:39:06 WARN DAGScheduler: Broadcasting large task binary with size 1968.6 KiB\n",
      "24/11/21 02:39:07 WARN DAGScheduler: Broadcasting large task binary with size 1968.6 KiB\n",
      "24/11/21 02:39:07 WARN DAGScheduler: Broadcasting large task binary with size 1968.6 KiB\n",
      "24/11/21 02:39:07 WARN DAGScheduler: Broadcasting large task binary with size 1968.6 KiB\n",
      "24/11/21 02:39:07 WARN DAGScheduler: Broadcasting large task binary with size 1968.6 KiB\n",
      "24/11/21 02:39:07 WARN DAGScheduler: Broadcasting large task binary with size 1968.6 KiB\n",
      "24/11/21 02:39:08 WARN DAGScheduler: Broadcasting large task binary with size 1968.6 KiB\n",
      "24/11/21 02:39:08 WARN DAGScheduler: Broadcasting large task binary with size 1968.6 KiB\n",
      "24/11/21 02:39:08 WARN DAGScheduler: Broadcasting large task binary with size 1968.6 KiB\n",
      "24/11/21 02:39:08 WARN DAGScheduler: Broadcasting large task binary with size 1968.6 KiB\n",
      "24/11/21 02:39:08 WARN DAGScheduler: Broadcasting large task binary with size 1968.6 KiB\n",
      "24/11/21 02:39:09 WARN DAGScheduler: Broadcasting large task binary with size 1968.6 KiB\n",
      "24/11/21 02:39:09 WARN DAGScheduler: Broadcasting large task binary with size 1968.6 KiB\n",
      "24/11/21 02:39:09 WARN DAGScheduler: Broadcasting large task binary with size 1968.6 KiB\n",
      "24/11/21 02:39:09 WARN DAGScheduler: Broadcasting large task binary with size 1968.6 KiB\n",
      "24/11/21 02:39:09 WARN DAGScheduler: Broadcasting large task binary with size 1968.6 KiB\n",
      "24/11/21 02:39:10 WARN DAGScheduler: Broadcasting large task binary with size 1968.6 KiB\n",
      "24/11/21 02:39:10 WARN DAGScheduler: Broadcasting large task binary with size 1968.6 KiB\n",
      "24/11/21 02:39:10 WARN DAGScheduler: Broadcasting large task binary with size 1968.6 KiB\n",
      "24/11/21 02:39:10 WARN DAGScheduler: Broadcasting large task binary with size 1968.6 KiB\n",
      "24/11/21 02:39:11 WARN DAGScheduler: Broadcasting large task binary with size 1968.6 KiB\n",
      "24/11/21 02:39:11 WARN DAGScheduler: Broadcasting large task binary with size 1968.6 KiB\n",
      "24/11/21 02:39:11 WARN DAGScheduler: Broadcasting large task binary with size 1968.6 KiB\n",
      "24/11/21 02:39:11 WARN DAGScheduler: Broadcasting large task binary with size 1968.6 KiB\n",
      "24/11/21 02:39:11 WARN DAGScheduler: Broadcasting large task binary with size 1968.6 KiB\n",
      "24/11/21 02:39:12 WARN DAGScheduler: Broadcasting large task binary with size 1968.6 KiB\n",
      "24/11/21 02:39:12 WARN DAGScheduler: Broadcasting large task binary with size 1968.6 KiB\n",
      "24/11/21 02:39:12 WARN DAGScheduler: Broadcasting large task binary with size 1968.6 KiB\n",
      "24/11/21 02:39:12 WARN DAGScheduler: Broadcasting large task binary with size 1968.6 KiB\n",
      "24/11/21 02:39:12 WARN DAGScheduler: Broadcasting large task binary with size 1968.6 KiB\n",
      "24/11/21 02:39:13 WARN DAGScheduler: Broadcasting large task binary with size 1968.6 KiB\n",
      "24/11/21 02:39:13 WARN DAGScheduler: Broadcasting large task binary with size 1968.6 KiB\n",
      "24/11/21 02:39:13 WARN DAGScheduler: Broadcasting large task binary with size 1968.6 KiB\n",
      "24/11/21 02:39:13 WARN DAGScheduler: Broadcasting large task binary with size 1968.6 KiB\n",
      "24/11/21 02:39:13 WARN DAGScheduler: Broadcasting large task binary with size 1968.6 KiB\n",
      "24/11/21 02:39:14 WARN DAGScheduler: Broadcasting large task binary with size 1968.6 KiB\n",
      "24/11/21 02:39:14 WARN DAGScheduler: Broadcasting large task binary with size 1968.6 KiB\n",
      "24/11/21 02:39:14 WARN DAGScheduler: Broadcasting large task binary with size 1968.6 KiB\n",
      "24/11/21 02:39:14 WARN DAGScheduler: Broadcasting large task binary with size 1968.6 KiB\n"
     ]
    }
   ],
   "source": [
    "model = pipeline.fit(trainingData)"
   ]
  },
  {
   "cell_type": "markdown",
   "id": "4409b078",
   "metadata": {},
   "source": [
    "<span style=\"color: blue; font-size:20px; font-weight:bold \">Tạo DataFrame chứa Từ vựng và Trọng số</span>"
   ]
  },
  {
   "cell_type": "code",
   "execution_count": 16,
   "id": "cc654e4a",
   "metadata": {
    "id": "c3ed06a6"
   },
   "outputs": [],
   "source": [
    "#collecting all metrics\n",
    "vocabulary = model.stages[2].vocabulary\n",
    "weights = model.stages[-1].coefficients.toArray()\n",
    "weights = [float(weight) for weight in weights]"
   ]
  },
  {
   "cell_type": "code",
   "execution_count": 17,
   "id": "b38c877e",
   "metadata": {
    "id": "b9b8a949"
   },
   "outputs": [],
   "source": [
    "schema = StructType([StructField('word', StringType()),\n",
    "                     StructField('weight', FloatType())\n",
    "                     ])\n",
    "cdf = spark.createDataFrame(zip(vocabulary, weights), schema)"
   ]
  },
  {
   "cell_type": "markdown",
   "id": "f1a43dbd",
   "metadata": {},
   "source": [
    "<span style=\"color: blue; font-size:20px; font-weight:bold \">Hiển thị Top 10 Từ vựng có Trọng số Cao nhất và Thấp nhất</span>"
   ]
  },
  {
   "cell_type": "code",
   "execution_count": 18,
   "id": "77cdfd60",
   "metadata": {
    "id": "56346b17",
    "outputId": "4ab8aafe-8635-4531-b456-e25a748aa1b1"
   },
   "outputs": [
    {
     "name": "stdout",
     "output_type": "stream",
     "text": [
      "+---------+----------+\n",
      "|     word|    weight|\n",
      "+---------+----------+\n",
      "|    great| 0.5876225|\n",
      "|   thoses|  0.325535|\n",
      "|  perfect|0.32343474|\n",
      "|     easy| 0.2615016|\n",
      "|   highly|0.25427502|\n",
      "|     love|0.23299988|\n",
      "|excellent|0.22146676|\n",
      "|     nice|0.21586789|\n",
      "|     good|0.20862874|\n",
      "|    works|0.20269535|\n",
      "+---------+----------+\n",
      "only showing top 10 rows\n",
      "\n"
     ]
    },
    {
     "name": "stderr",
     "output_type": "stream",
     "text": [
      "                                                                                \r"
     ]
    }
   ],
   "source": [
    "cdf.orderBy(desc(\"weight\")).show(10)"
   ]
  },
  {
   "cell_type": "code",
   "execution_count": 19,
   "id": "d9de2a02",
   "metadata": {
    "id": "0dd14bb1",
    "outputId": "963a9ba5-59d7-462a-e3e6-32f02593522b"
   },
   "outputs": [
    {
     "name": "stdout",
     "output_type": "stream",
     "text": [
      "+-------------+-----------+\n",
      "|         word|     weight|\n",
      "+-------------+-----------+\n",
      "|     returned|-0.38842562|\n",
      "|         poor|-0.33077022|\n",
      "|      useless|-0.30299458|\n",
      "|        waste|-0.27846226|\n",
      "|        broke|-0.26966578|\n",
      "|         junk| -0.2493974|\n",
      "|       return|-0.24831308|\n",
      "|disappointing|-0.22999014|\n",
      "|    returning|-0.21706156|\n",
      "| disappointed|-0.21414408|\n",
      "+-------------+-----------+\n",
      "only showing top 10 rows\n",
      "\n"
     ]
    }
   ],
   "source": [
    "cdf.orderBy(\"weight\").show(10)"
   ]
  },
  {
   "cell_type": "markdown",
   "id": "b2b86f32",
   "metadata": {},
   "source": [
    "<span style=\"color: blue; font-size:20px; font-weight:bold \">Tạo Dự đoán và Đánh giá Mô hình</span>"
   ]
  },
  {
   "cell_type": "code",
   "execution_count": 20,
   "id": "9dec5466",
   "metadata": {
    "id": "4a35d20a"
   },
   "outputs": [],
   "source": [
    "predictions = model.transform(testData)"
   ]
  },
  {
   "cell_type": "code",
   "execution_count": 21,
   "id": "e0ebdbcb",
   "metadata": {
    "id": "86682040"
   },
   "outputs": [
    {
     "name": "stderr",
     "output_type": "stream",
     "text": [
      "24/11/21 02:39:18 WARN DAGScheduler: Broadcasting large task binary with size 1986.0 KiB\n",
      "                                                                                \r"
     ]
    }
   ],
   "source": [
    "evaluator = BinaryClassificationEvaluator()  \n",
    "areaUnderROC = evaluator.evaluate(predictions)"
   ]
  },
  {
   "cell_type": "markdown",
   "id": "aa7fdb13",
   "metadata": {},
   "source": [
    "<span style=\"color: blue; font-size:20px; font-weight:bold \">Hiển thị Dự đoán</span>"
   ]
  },
  {
   "cell_type": "code",
   "execution_count": 22,
   "id": "9eaa08a5",
   "metadata": {
    "id": "7d624986",
    "outputId": "4cf3b71f-5198-45e3-be3d-bc570f222c77"
   },
   "outputs": [
    {
     "name": "stderr",
     "output_type": "stream",
     "text": [
      "24/11/21 02:39:22 WARN DAGScheduler: Broadcasting large task binary with size 2003.5 KiB\n",
      "[Stage 141:>                                                        (0 + 1) / 1]\r"
     ]
    },
    {
     "name": "stdout",
     "output_type": "stream",
     "text": [
      "+----------+-------+--------------------+--------------------+--------------+--------------------+-----+--------------------+--------------------+--------------------+--------------------+--------------------+--------------------+----------+\n",
      "|      asin|overall|          reviewText|             summary|unixReviewTime|                text|label|      reviewTokensUf|        reviewTokens|                  cv|            features|       rawPrediction|         probability|prediction|\n",
      "+----------+-------+--------------------+--------------------+--------------+--------------------+-----+--------------------+--------------------+--------------------+--------------------+--------------------+--------------------+----------+\n",
      "|7245456313|    1.0|I wish I would ha...|Defective - Be Ca...|    1354492800|Defective - Be Ca...|  0.0|[defective, -, be...|[defective, -, ca...|(71899,[0,11,15,1...|(71899,[0,11,15,1...|[1.99668098749145...|[0.88044816229074...|       0.0|\n",
      "|7245456313|    5.0|I bought this ban...|Great product, aw...|    1400112000|Great product, aw...|  1.0|[great, product, ...|[great, product, ...|(71899,[0,1,2,4,5...|(71899,[0,1,2,4,5...|[-3.3010460840682...|[0.03553531986812...|       1.0|\n",
      "|7245456313|    5.0|I used to be a pe...|GREAT product for...|    1304899200|GREAT product for...|  1.0|[great, product, ...|[great, product, ...|(71899,[1,8,16,20...|(71899,[1,8,16,20...|[-1.4400664803236...|[0.19153505391365...|       1.0|\n",
      "|7245456313|    5.0|My arms are burni...|Love Love Love th...|    1358985600|Love Love Love th...|  1.0|[love, love, love...|[love, love, love...|(71899,[6,10,13,3...|(71899,[6,10,13,3...|[-3.2229472289436...|[0.03831125139765...|       1.0|\n",
      "|B00000IURU|    5.0|Use this at pre s...|Toddlers love thi...|    1400803200|Toddlers love thi...|  1.0|[toddlers, love, ...|[toddlers, love, ...|(71899,[4,18,38,3...|(71899,[4,18,38,3...|[-0.6913907181625...|[0.33372377250877...|       1.0|\n",
      "|B00000J6JO|    1.0|As I write this r...|Very Cheaply made...|    1369699200|Very Cheaply made...|  0.0|[very, cheaply, m...|[cheaply, made, p...|(71899,[4,8,14,18...|(71899,[4,8,14,18...|[1.19648991575829...|[0.76789977056535...|       0.0|\n",
      "|B00000J6JO|    4.0|I saw a lot of ne...|Really good gift ...|    1401148800|Really good gift ...|  1.0|[really, good, gi...|[really, good, gi...|(71899,[0,2,3,4,5...|(71899,[0,2,3,4,5...|[-0.4114566537646...|[0.39856289439000...|       1.0|\n",
      "|B0000224UE|    5.0|I was given this ...|   Always by my side|    1361404800|Always by my side...|  1.0|[always, by, my, ...|[always, side, gi...|(71899,[0,4,5,6,1...|(71899,[0,4,5,6,1...|[0.07039114776984...|[0.51759052424809...|       0.0|\n",
      "|B0000224UE|    5.0|The victor inbox ...|Victorinox Multi-...|    1361923200|Victorinox Multi-...|  1.0|[victorinox, mult...|[victorinox, mult...|(71899,[6,14,16,1...|(71899,[6,14,16,1...|[-1.1410191572624...|[0.24213329163981...|       1.0|\n",
      "|B000030056|    1.0|Cheap product!  W...|       Cheap product|    1309564800|Cheap product Che...|  0.0|[cheap, product, ...|[cheap, product, ...|(71899,[4,8,14,17...|(71899,[4,8,14,17...|[1.16342300609821...|[0.76195413639682...|       0.0|\n",
      "|B00003CYPK|    5.0|Trac Ball is just...|One of the best b...|    1226188800|One of the best b...|  1.0|[one, of, the, be...|[one, best, backy...|(71899,[0,3,5,13,...|(71899,[0,3,5,13,...|[-3.1076942546118...|[0.04279098786357...|       1.0|\n",
      "|B00004NKIQ|    5.0|This net is great...|excellent net for...|    1341532800|excellent net for...|  1.0|[excellent, net, ...|[excellent, net, ...|(71899,[6,14,21,2...|(71899,[6,14,21,2...|[-2.1941902835827...|[0.10027341808034...|       1.0|\n",
      "|B00004SQM7|    2.0|This must be more...|          Didn't Fit|    1307404800|Didn't Fit This m...|  0.0|[didn't, fit, thi...|[fit, must, ideal...|(71899,[9,39,41,4...|(71899,[9,39,41,4...|[2.05943139774295...|[0.88689714564144...|       0.0|\n",
      "|B00004SQM9|    1.0|This lock jammed ...|            Not good|    1234656000|Not good This loc...|  0.0|[not, good, this,...|[good, lock, jamm...|(71899,[2,60,113,...|(71899,[2,60,113,...|[0.27827736694020...|[0.56912384699701...|       0.0|\n",
      "|B00004SQM9|    2.0|Works great on fi...|doesn't work well...|    1272326400|doesn't work well...|  0.0|[doesn't, work, w...|[work, well, leve...|(71899,[1,5,6,11,...|(71899,[1,5,6,11,...|[-0.9750220790220...|[0.27388062786153...|       1.0|\n",
      "|B00004SQM9|    4.0|This is a great a...|Works for multipl...|    1369180800|Works for multipl...|  1.0|[works, for, mult...|[works, multiple,...|(71899,[0,1,5,15,...|(71899,[0,1,5,15,...|[-1.4518081953470...|[0.18972343897225...|       1.0|\n",
      "|B00004SQM9|    5.0|I like the combin...|Very good trigger...|    1342051200|Very good trigger...|  1.0|[very, good, trig...|[good, trigger, l...|(71899,[2,3,26,44...|(71899,[2,3,26,44...|[-0.9615364235615...|[0.27657068276025...|       1.0|\n",
      "|B00004T1JW|    5.0|These bases are v...|Very nice set of ...|    1357084800|Very nice set of ...|  1.0|[very, nice, set,...|[nice, set, bases...|(71899,[6,13,15,1...|(71899,[6,13,15,1...|[-1.5148134864671...|[0.18022652998300...|       1.0|\n",
      "|B00004THDC|    4.0|Excellent optics....|    Excellent Optics|    1386288000|Excellent Optics ...|  1.0|[excellent, optic...|[excellent, optic...|(71899,[6,20,22,2...|(71899,[6,20,22,2...|[-2.9582846383313...|[0.04934641382990...|       1.0|\n",
      "|B00004TQ2P|    5.0|Good for kids and...|  Good for my nephew|    1382832000|Good for my nephe...|  1.0|[good, for, my, n...|[good, nephew, go...|(71899,[2,31,47,7...|(71899,[2,31,47,7...|[-0.5040760931476...|[0.37658325100325...|       1.0|\n",
      "+----------+-------+--------------------+--------------------+--------------+--------------------+-----+--------------------+--------------------+--------------------+--------------------+--------------------+--------------------+----------+\n",
      "only showing top 20 rows\n",
      "\n"
     ]
    },
    {
     "name": "stderr",
     "output_type": "stream",
     "text": [
      "                                                                                \r"
     ]
    }
   ],
   "source": [
    "predictions.show()"
   ]
  },
  {
   "cell_type": "markdown",
   "id": "1a30483f",
   "metadata": {},
   "source": [
    "<span style=\"color: blue; font-size:20px; font-weight:bold \">Đánh giá Mô hình</span>"
   ]
  },
  {
   "cell_type": "code",
   "execution_count": 23,
   "id": "dc229f6b",
   "metadata": {
    "id": "8f3fb74b"
   },
   "outputs": [
    {
     "name": "stderr",
     "output_type": "stream",
     "text": [
      "24/11/21 02:39:28 WARN DAGScheduler: Broadcasting large task binary with size 1983.3 KiB\n",
      "24/11/21 02:39:33 WARN DAGScheduler: Broadcasting large task binary with size 1983.3 KiB\n",
      "24/11/21 02:39:39 WARN DAGScheduler: Broadcasting large task binary with size 1983.3 KiB\n",
      "24/11/21 02:39:43 WARN DAGScheduler: Broadcasting large task binary with size 1983.3 KiB\n",
      "24/11/21 02:39:47 WARN DAGScheduler: Broadcasting large task binary with size 1983.5 KiB\n",
      "24/11/21 02:39:50 WARN DAGScheduler: Broadcasting large task binary with size 1983.5 KiB\n",
      "24/11/21 02:39:54 WARN DAGScheduler: Broadcasting large task binary with size 1983.5 KiB\n",
      "24/11/21 02:39:57 WARN DAGScheduler: Broadcasting large task binary with size 1983.5 KiB\n",
      "                                                                                \r"
     ]
    }
   ],
   "source": [
    "#model evaluation\n",
    "lp = predictions.select(\"label\", \"prediction\")\n",
    "counttotal = predictions.count()\n",
    "correct = lp.filter(col(\"label\") == col(\"prediction\")).count()\n",
    "wrong = lp.filter(~(col(\"label\") == col(\"prediction\"))).count()\n",
    "ratioWrong = float(wrong) / float(counttotal)\n",
    "lp = predictions.select(  \"prediction\",\"label\")\n",
    "counttotal = float(predictions.count())\n",
    "correct = lp.filter(col(\"label\") == col(\"prediction\")).count()\n",
    "wrong = lp.filter(\"label != prediction\").count()\n",
    "ratioWrong=wrong/counttotal\n",
    "ratioCorrect=correct/counttotal\n",
    "trueneg =( lp.filter(col(\"label\") == 0.0).filter(col(\"label\") == col(\"prediction\")).count()) /counttotal\n",
    "truepos = (lp.filter(col(\"label\") == 1.0).filter(col(\"label\") == col(\"prediction\")).count())/counttotal\n",
    "falseneg = (lp.filter(col(\"label\") == 0.0).filter(~(col(\"label\") == col(\"prediction\"))).count())/counttotal\n",
    "falsepos = (lp.filter(col(\"label\") == 1.0).filter(~(col(\"label\") == col(\"prediction\"))).count())/counttotal\n",
    "\n",
    "precision= truepos / (truepos + falsepos)\n",
    "recall= truepos / (truepos + falseneg)\n",
    "#fmeasure= 2  precision  recall / (precision + recall)\n",
    "accuracy=(truepos + trueneg) / (truepos + trueneg + falsepos + falseneg)"
   ]
  },
  {
   "cell_type": "code",
   "execution_count": 24,
   "id": "259384c2",
   "metadata": {
    "id": "b7c3824f",
    "outputId": "632ee324-c3f8-4519-f7b0-be3dc85f63e2"
   },
   "outputs": [
    {
     "name": "stdout",
     "output_type": "stream",
     "text": [
      "counttotal   : 9003.0\n",
      "correct      : 7776\n",
      "wrong        : 1227\n",
      "ratioWrong   : 0.13628790403198934\n",
      "ratioCorrect : 0.8637120959680107\n",
      "truen        : 0.3361101854937243\n",
      "truep        : 0.5276019104742864\n",
      "falsen       : 0.08863712095968011\n",
      "falsep       : 0.04765078307230923\n",
      "precision    : 0.9171654759606103\n",
      "recall       : 0.8561643835616438\n",
      "accuracy     : 0.8637120959680107\n"
     ]
    }
   ],
   "source": [
    "print('counttotal   :', counttotal     )\n",
    "print('correct      :', correct        )\n",
    "print('wrong        :', wrong          )\n",
    "print('ratioWrong   :', ratioWrong     )\n",
    "print('ratioCorrect :', ratioCorrect   )\n",
    "print('truen        :', trueneg          )\n",
    "print('truep        :', truepos          )\n",
    "print('falsen       :', falseneg         )\n",
    "print('falsep       :', falsepos         )\n",
    "print('precision    :', precision      )\n",
    "print('recall       :', recall         )\n",
    "#print('fmeasure     :', fmeasure       )\n",
    "print('accuracy     :', accuracy       )"
   ]
  },
  {
   "cell_type": "markdown",
   "id": "4d4608b3",
   "metadata": {},
   "source": [
    "<span style=\"color: blue; font-size:20px; font-weight:bold \">Hiển thị các dự đoán không tích cực (prediction == 0.0)</span>"
   ]
  },
  {
   "cell_type": "code",
   "execution_count": 25,
   "id": "f7161750",
   "metadata": {
    "id": "ea2f523d",
    "outputId": "c892f587-d3eb-4439-dd16-177052de438e"
   },
   "outputs": [
    {
     "name": "stderr",
     "output_type": "stream",
     "text": [
      "24/11/21 02:40:00 WARN DAGScheduler: Broadcasting large task binary with size 1996.3 KiB\n",
      "[Stage 162:>                                                        (0 + 1) / 1]\r"
     ]
    },
    {
     "name": "stdout",
     "output_type": "stream",
     "text": [
      "+--------------------+--------------------+-------+----------+\n",
      "|             summary|        reviewTokens|overall|prediction|\n",
      "+--------------------+--------------------+-------+----------+\n",
      "|Buyer Beware - Yo...|[buyer, beware, -...|    2.0|       0.0|\n",
      "|Awful Phone and T...|[awful, phone, te...|    1.0|       0.0|\n",
      "|DO NOT BUY HERE I...|[buy, need, custo...|    1.0|       0.0|\n",
      "|                JUNK|[junk, well, rece...|    1.0|       0.0|\n",
      "|Poor 3-9x40 Hamme...|[poor, 3-9x40, ha...|    1.0|       0.0|\n",
      "+--------------------+--------------------+-------+----------+\n",
      "only showing top 5 rows\n",
      "\n"
     ]
    },
    {
     "name": "stderr",
     "output_type": "stream",
     "text": [
      "                                                                                \r"
     ]
    }
   ],
   "source": [
    "predictions.filter(col(\"prediction\") == 0.0)\\\n",
    ".select(\"summary\",\"reviewTokens\",\"overall\",\"prediction\")\\\n",
    ".orderBy(desc(\"rawPrediction\")).show(5)"
   ]
  },
  {
   "cell_type": "markdown",
   "id": "67bbb4c3",
   "metadata": {},
   "source": [
    "<span style=\"color: blue; font-size:20px; font-weight:bold \">Hiển thị các dự đoán tích cực (prediction == 1.0)</span>"
   ]
  },
  {
   "cell_type": "code",
   "execution_count": 26,
   "id": "10b869f4",
   "metadata": {
    "id": "67f67c23",
    "outputId": "10f5971b-77a4-495c-8207-403a13154f5a"
   },
   "outputs": [
    {
     "name": "stderr",
     "output_type": "stream",
     "text": [
      "24/11/21 02:40:05 WARN DAGScheduler: Broadcasting large task binary with size 1996.2 KiB\n",
      "[Stage 163:>                                                        (0 + 1) / 1]\r"
     ]
    },
    {
     "name": "stdout",
     "output_type": "stream",
     "text": [
      "+--------------------+--------------------+-------+----------+\n",
      "|             summary|        reviewTokens|overall|prediction|\n",
      "+--------------------+--------------------+-------+----------+\n",
      "|My DROID Story an...|[droid, story, co...|    5.0|       1.0|\n",
      "| great trucker phone|[great, trucker, ...|    5.0|       1.0|\n",
      "|    Favorite EDC Bag|[favorite, edc, b...|    4.0|       1.0|\n",
      "|One of My Favorit...|[one, favorites!!...|    4.0|       1.0|\n",
      "|Best Hopper I've ...|[best, hopper, us...|    4.0|       1.0|\n",
      "+--------------------+--------------------+-------+----------+\n",
      "only showing top 5 rows\n",
      "\n"
     ]
    },
    {
     "name": "stderr",
     "output_type": "stream",
     "text": [
      "                                                                                \r"
     ]
    }
   ],
   "source": [
    "predictions.filter(col(\"prediction\")== 1.0)\\\n",
    ".select(\"summary\",\"reviewTokens\",\"overall\",\"prediction\")\\\n",
    ".orderBy(\"rawPrediction\").show(5)"
   ]
  },
  {
   "cell_type": "markdown",
   "id": "9b056039",
   "metadata": {},
   "source": [
    "<span style=\"color: blue; font-size:20px; font-weight:bold \">Lưu mô hình đã huấn luyện</span>"
   ]
  },
  {
   "cell_type": "code",
   "execution_count": 27,
   "id": "6030cdc9",
   "metadata": {
    "id": "46797c12"
   },
   "outputs": [
    {
     "name": "stderr",
     "output_type": "stream",
     "text": [
      "24/11/21 02:40:11 WARN TaskSetManager: Stage 168 contains a task of very large size (1385 KiB). The maximum recommended task size is 1000 KiB.\n",
      "24/11/21 02:40:12 WARN TaskSetManager: Stage 171 contains a task of very large size (1153 KiB). The maximum recommended task size is 1000 KiB.\n"
     ]
    }
   ],
   "source": [
    "dir = \"sentiment/\"\n",
    "model.write().overwrite().save(dir)"
   ]
  },
  {
   "cell_type": "code",
   "execution_count": 28,
   "id": "11542035",
   "metadata": {
    "id": "33b356fa"
   },
   "outputs": [],
   "source": [
    "dir = \"sentiment/\"\n",
    "model = PipelineModel.load(dir)"
   ]
  },
  {
   "cell_type": "markdown",
   "id": "480d4f6d",
   "metadata": {},
   "source": [
    "<span style=\"color: blue; font-size:20px; font-weight:bold \">Đọc dữ liệu từ MongoDB và hiển thị schema</span>"
   ]
  },
  {
   "cell_type": "code",
   "execution_count": 29,
   "id": "98e007f1",
   "metadata": {
    "id": "05251f93",
    "outputId": "f1e2ce9d-c8a2-4089-f51e-efb6035c56ba"
   },
   "outputs": [
    {
     "name": "stdout",
     "output_type": "stream",
     "text": [
      "root\n",
      " |-- _id: struct (nullable = true)\n",
      " |    |-- oid: string (nullable = true)\n",
      " |-- prediction: double (nullable = true)\n",
      " |-- text: string (nullable = true)\n",
      " |-- timestamp_ms: string (nullable = true)\n",
      "\n"
     ]
    }
   ],
   "source": [
    "df = spark.read.format(\"mongo\").load()\n",
    "df.printSchema()"
   ]
  },
  {
   "cell_type": "markdown",
   "id": "1da35daf",
   "metadata": {},
   "source": [
    "<span style=\"color: blue; font-size:20px; font-weight:bold \">Đọc lại dữ liệu từ MongoDB và chọn cột \"timestamp_ms\" và \"text\"</span>"
   ]
  },
  {
   "cell_type": "code",
   "execution_count": 30,
   "id": "e827650d",
   "metadata": {},
   "outputs": [
    {
     "name": "stdout",
     "output_type": "stream",
     "text": [
      "Số lượng giá trị null trong cột 'text': 0\n"
     ]
    }
   ],
   "source": [
    "df = spark.read.format(\"mongo\").load().select(\"timestamp_ms\",\"text\")\n",
    "# Kiểm tra số lượng giá trị null trong cột 'text'\n",
    "null_count = df.filter(df.text.isNull()).count()\n",
    "print(f\"Số lượng giá trị null trong cột 'text': {null_count}\")"
   ]
  },
  {
   "cell_type": "code",
   "execution_count": 31,
   "id": "e9c727b5",
   "metadata": {},
   "outputs": [],
   "source": [
    "# Loại bỏ các hàng có giá trị null trong cột 'text'\n",
    "df = df.na.drop(subset=[\"text\"])"
   ]
  },
  {
   "cell_type": "code",
   "execution_count": 32,
   "id": "0a19168c",
   "metadata": {},
   "outputs": [
    {
     "name": "stdout",
     "output_type": "stream",
     "text": [
      "root\n",
      " |-- timestamp_ms: string (nullable = true)\n",
      " |-- text: string (nullable = true)\n",
      "\n"
     ]
    }
   ],
   "source": [
    "df.printSchema()"
   ]
  },
  {
   "cell_type": "markdown",
   "id": "5270dd33",
   "metadata": {},
   "source": [
    "<span style=\"color: blue; font-size:20px; font-weight:bold \">Dùng splits để bucketize dữ liệu nếu cần thiết</span>"
   ]
  },
  {
   "cell_type": "code",
   "execution_count": 33,
   "id": "dea1f2c9",
   "metadata": {
    "id": "fc22ffb8",
    "outputId": "bcfc57d0-d04a-4e88-b453-c00665c792eb"
   },
   "outputs": [
    {
     "name": "stderr",
     "output_type": "stream",
     "text": [
      "24/11/21 02:40:16 WARN DAGScheduler: Broadcasting large task binary with size 1951.2 KiB\n"
     ]
    }
   ],
   "source": [
    "splits = [-float(\"inf\"), 0, float(\"inf\")]\n",
    "#bucketizer = Bucketizer(inputCol=\"timestamp_ms\",outputCol=\"sentiment\",splits=splits)\n",
    "\n",
    "#df5= bucketizer.transform(df)\n",
    "predictions = model.transform(df)\n",
    "result_df = predictions.select('text', 'prediction')\n",
    "\n",
    "# Chuyển đổi sang Pandas DataFrame\n",
    "result_pd = result_df.toPandas()\n"
   ]
  },
  {
   "cell_type": "code",
   "execution_count": 34,
   "id": "4990ceb2",
   "metadata": {},
   "outputs": [
    {
     "data": {
      "text/html": [
       "<style type=\"text/css\">\n",
       "#T_71eff_row0_col0, #T_71eff_row0_col1, #T_71eff_row3_col0, #T_71eff_row3_col1, #T_71eff_row7_col1 {\n",
       "  background-color: lightcoral;\n",
       "  text-align: left;\n",
       "}\n",
       "#T_71eff_row1_col0, #T_71eff_row2_col0, #T_71eff_row4_col0, #T_71eff_row5_col0, #T_71eff_row7_col0 {\n",
       "  text-align: left;\n",
       "}\n",
       "#T_71eff_row1_col1, #T_71eff_row2_col1, #T_71eff_row4_col1, #T_71eff_row5_col1, #T_71eff_row6_col0, #T_71eff_row6_col1 {\n",
       "  background-color: lightgreen;\n",
       "  text-align: left;\n",
       "}\n",
       "</style>\n",
       "<table id=\"T_71eff_\" style=\"width: 80%; border-collapse: collapse;\">\n",
       "  <caption>Dự đoán Sentiment</caption>\n",
       "  <thead>\n",
       "    <tr>\n",
       "      <th class=\"blank level0\" >&nbsp;</th>\n",
       "      <th class=\"col_heading level0 col0\" >text</th>\n",
       "      <th class=\"col_heading level0 col1\" >prediction</th>\n",
       "    </tr>\n",
       "  </thead>\n",
       "  <tbody>\n",
       "    <tr>\n",
       "      <th id=\"T_71eff_level0_row0\" class=\"row_heading level0 row0\" >0</th>\n",
       "      <td id=\"T_71eff_row0_col0\" class=\"data row0 col0\" >Abe Uta fights back tears to cheer for her bro’s gold! 🥲 🇯🇵\n",
       "\n",
       "JudoTV Judo JudoOlympics Sport Olympics Paris2024 </td>\n",
       "      <td id=\"T_71eff_row0_col1\" class=\"data row0 col1\" >0.000000</td>\n",
       "    </tr>\n",
       "    <tr>\n",
       "      <th id=\"T_71eff_level0_row1\" class=\"row_heading level0 row1\" >1</th>\n",
       "      <td id=\"T_71eff_row1_col0\" class=\"data row1 col0\" >JudoJuniors 🇹🇯 was absolutely bursting with emotion! Let’s relive that incredible atmosphere once more 🫠\n",
       "\n",
       "SlowMotionRecap SlowMotion JudoJuniors Dushanbe Tajikistan Judo Sport RoadToLA2028 </td>\n",
       "      <td id=\"T_71eff_row1_col1\" class=\"data row1 col1\" >1.000000</td>\n",
       "    </tr>\n",
       "    <tr>\n",
       "      <th id=\"T_71eff_level0_row2\" class=\"row_heading level0 row2\" >2</th>\n",
       "      <td id=\"T_71eff_row2_col0\" class=\"data row2 col0\" >JudoJuniors 🇹🇯 was absolutely bursting with emotion! Let’s relive that incredible atmosphere once more 🫠\n",
       "\n",
       "SlowMotionRecap SlowMotion JudoJuniors Dushanbe Tajikistan Judo Sport RoadToLA2028 </td>\n",
       "      <td id=\"T_71eff_row2_col1\" class=\"data row2 col1\" >1.000000</td>\n",
       "    </tr>\n",
       "    <tr>\n",
       "      <th id=\"T_71eff_level0_row3\" class=\"row_heading level0 row3\" >3</th>\n",
       "      <td id=\"T_71eff_row3_col0\" class=\"data row3 col0\" >Abe Uta fights back tears to cheer for her bro’s gold! 🥲 🇯🇵\n",
       "\n",
       "JudoTV Judo JudoOlympics Sport Olympics Paris2024 </td>\n",
       "      <td id=\"T_71eff_row3_col1\" class=\"data row3 col1\" >0.000000</td>\n",
       "    </tr>\n",
       "    <tr>\n",
       "      <th id=\"T_71eff_level0_row4\" class=\"row_heading level0 row4\" >4</th>\n",
       "      <td id=\"T_71eff_row4_col0\" class=\"data row4 col0\" >JudoJuniors 🇹🇯 was absolutely bursting with emotion! Let’s relive that incredible atmosphere once more 🫠\n",
       "\n",
       "SlowMotionRecap SlowMotion JudoJuniors Dushanbe Tajikistan Judo Sport RoadToLA2028 </td>\n",
       "      <td id=\"T_71eff_row4_col1\" class=\"data row4 col1\" >1.000000</td>\n",
       "    </tr>\n",
       "    <tr>\n",
       "      <th id=\"T_71eff_level0_row5\" class=\"row_heading level0 row5\" >5</th>\n",
       "      <td id=\"T_71eff_row5_col0\" class=\"data row5 col0\" >JudoJuniors 🇹🇯 was absolutely bursting with emotion! Let’s relive that incredible atmosphere once more 🫠\n",
       "\n",
       "SlowMotionRecap SlowMotion JudoJuniors Dushanbe Tajikistan Judo Sport RoadToLA2028 </td>\n",
       "      <td id=\"T_71eff_row5_col1\" class=\"data row5 col1\" >1.000000</td>\n",
       "    </tr>\n",
       "    <tr>\n",
       "      <th id=\"T_71eff_level0_row6\" class=\"row_heading level0 row6\" >6</th>\n",
       "      <td id=\"T_71eff_row6_col0\" class=\"data row6 col0\" >The hour numerals and markers, as well as the hands, of Club Sport neomatik 39 are deeply coated with Superluminova and glow blue in the dark.  </td>\n",
       "      <td id=\"T_71eff_row6_col1\" class=\"data row6 col1\" >1.000000</td>\n",
       "    </tr>\n",
       "    <tr>\n",
       "      <th id=\"T_71eff_level0_row7\" class=\"row_heading level0 row7\" >7</th>\n",
       "      <td id=\"T_71eff_row7_col0\" class=\"data row7 col0\" >Excited to be in Ouargla, south of Algeria, with  ambassador   &amp;  to celebrate the new school year with sport &amp; play. Our champion gives the 1st PE session. ForEveryChild a champion! </td>\n",
       "      <td id=\"T_71eff_row7_col1\" class=\"data row7 col1\" >0.000000</td>\n",
       "    </tr>\n",
       "  </tbody>\n",
       "</table>\n"
      ],
      "text/plain": [
       "<pandas.io.formats.style.Styler at 0x7f0006f55f98>"
      ]
     },
     "execution_count": 34,
     "metadata": {},
     "output_type": "execute_result"
    }
   ],
   "source": [
    "# Định dạng và hiển thị kết quả\n",
    "styled_result = result_pd.style.set_table_attributes('style=\"width: 80%; border-collapse: collapse;\"') \\\n",
    "                                .set_caption(\"Dự đoán Sentiment\") \\\n",
    "                                .highlight_max(color='lightgreen') \\\n",
    "                                .highlight_min(color='lightcoral') \\\n",
    "                                    .set_properties(**{'text-align': 'left'})\n",
    "\n",
    "\n",
    "# Hiển thị kết quả\n",
    "styled_result\n"
   ]
  },
  {
   "cell_type": "markdown",
   "id": "b617456f",
   "metadata": {},
   "source": [
    "<span style=\"color: red; font-size:30px; font-weight:bold \">Mục đích</span>"
   ]
  },
  {
   "cell_type": "markdown",
   "id": "57de62c1",
   "metadata": {},
   "source": [
    "### Mô Hình Phân Loại: Dựa trên dự đoán (prediction) đều là 1.000000, mô hình đang thực hiện phân loại nhị phân với tất cả các văn bản đều được dự đoán là tích cực. Điều này cho thấy mô hình có thể là một mô hình phân loại cảm xúc nhị phân"
   ]
  },
  {
   "cell_type": "markdown",
   "id": "cec1f8f0",
   "metadata": {},
   "source": [
    "### Dựa trên các kết quả dự đoán, mô hình có thể được áp dụng để phân tích các bài đăng trên mạng xã hội hoặc các bài viết liên quan đến thể thao và hoạt động ngoài trời, nhằm xác định xem các bài viết này mang cảm xúc tích cực hay không."
   ]
  },
  {
   "cell_type": "markdown",
   "id": "482aa25d",
   "metadata": {},
   "source": [
    "### File \"streamlistener\" là một phần quan trọng trong quy trình phân tích cảm xúc tweet theo thời gian thực. Nó kết nối với Kafka để đọc dữ liệu streaming, tiền xử lý dữ liệu, áp dụng mô hình phân tích cảm xúc và lưu trữ kết quả vào MongoDB. Điều này cho phép theo dõi và phân tích cảm xúc của người dùng trên Twitter một cách liên tục và kịp thời."
   ]
  },
  {
   "cell_type": "code",
   "execution_count": null,
   "id": "43b0f798",
   "metadata": {},
   "outputs": [],
   "source": []
  }
 ],
 "metadata": {
  "colab": {
   "name": "sentimentanalyzer.ipynb",
   "provenance": []
  },
  "kernelspec": {
   "display_name": "Python 3 (ipykernel)",
   "language": "python",
   "name": "python3"
  },
  "language_info": {
   "codemirror_mode": {
    "name": "ipython",
    "version": 3
   },
   "file_extension": ".py",
   "mimetype": "text/x-python",
   "name": "python",
   "nbconvert_exporter": "python",
   "pygments_lexer": "ipython3",
   "version": "3.7.3"
  }
 },
 "nbformat": 4,
 "nbformat_minor": 5
}
